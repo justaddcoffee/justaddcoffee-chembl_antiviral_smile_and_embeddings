{
 "cells": [
  {
   "cell_type": "markdown",
   "metadata": {},
   "source": [
    "# Create data structure to inform GCPN loss function using KG-COVID-19 embeddings\n",
    "\n",
    "In this notebook, we make a data structure to be used to inform a GCPN loss function with\n",
    "information from embeddings of the KG-COVID-19 knowledge graph. This graph contains a broad\n",
    "array of information about COVID-19 and SARS-CoV-2 ([detailed here](https://knowledge-graph-hub.github.io/kg-covid-19-dashboard/)).\n",
    "\n",
    "The data structure we produce will be a 2D matrix comprised of the 6,900 ChEMBL antiviral compounds as rows,\n",
    "important SARS-CoV-2 entities represented as nodes in our KG (such as SARS-CoV-2 itself, protein cleavage\n",
    "products like ADRP and Mpro, etc) as columns. The value in the matrix will be the cosine similarity\n",
    "between the embedding of the node for the ChEMBL antiviral in the row and the embedding of the node for\n",
    "the SARS-CoV-2 entity in that column. The matrix will be output as a TSV. The SMILE string representation of each ChEMBL antiviral will also be output as an additional column so that Tanimoto similarity can be calculated.\n",
    "\n",
    "The data structure produced here will be used to investigate whether embeddings of the COVID-19 KG\n",
    "can be used to guide GCPNs in producing more useful/viable antivirals for COVID-19 treatment. Specifically,\n",
    "for each compound produced by GCPN, a loss function might be defined using the product of the Tanimoto similarity and cosine similarity for the ChEMBL antivirals, something like:\n",
    "\n",
    "$L = -max^{n}_{i=1}(tanimoto(C^{gcpn}, C^{chembl}_i) * cosine\\_sim(C^{chembl}_i, N^{interest}))$\n",
    "\n",
    "\n",
    "where n is the number of ChEMBL antivirals, N is the SARS-CoV-2 node of interest (ADRP, Mpro, SARS-CoV-2 itself, etc) that is to be targeted by the therapeutic.\n",
    "\n",
    "Conceptually this should confine the GCPN to some boundary of \"druglikeness\" as defined by similarity to ChEMBL antivirals and their ability to target the drug target of interest.\n",
    "\n",
    "CAVEAT: These embeddings were generated using an 80/20 training/test split. We could and possibly should regenerate these embeddings with the entire graph (no 80/20 split)"
   ]
  },
  {
   "cell_type": "markdown",
   "metadata": {},
   "source": [
    "## Loading the KG-COVID-19 knowledge graph\n",
    "We need to load the graphs and redo the training/test split exactly as we did when generating the embeddings in order to retrieve the labels for the embedddings"
   ]
  },
  {
   "cell_type": "markdown",
   "metadata": {},
   "source": [
    "### Define all files and URLs up top here"
   ]
  },
  {
   "cell_type": "code",
   "execution_count": 1,
   "metadata": {},
   "outputs": [],
   "source": [
    "import os\n",
    "\n",
    "base_dl_dir = \"downloaded_data\"\n",
    "graph_data_dir = os.path.join(base_dl_dir, \"kg-covid-19-20201001\")\n",
    "embedding_data_dir = os.path.join(base_dl_dir, \"embeddings-20201001\")\n",
    "\n",
    "# graph stuff\n",
    "graph_out_file = os.path.join(graph_data_dir + \"/kg-covid-19.tar.gz\")\n",
    "nodes_file = os.path.join(graph_data_dir, \"merged-kg_nodes.tsv\")\n",
    "edges_file = os.path.join(graph_data_dir, \"merged-kg_edges.tsv\")\n",
    "sorted_edges_file = os.path.join(graph_data_dir, \"merged-kg_edges_SORTED.tsv\")\n",
    "graph_tar_url = \"https://kg-hub.berkeleybop.io/kg-covid-19/20201001/kg-covid-19.tar.gz\"\n",
    "\n",
    "# embeddings URLs\n",
    "base_kghub_url = \"http://kg-hub.berkeleybop.io/\"\n",
    "embeddings_url = os.path.join(base_kghub_url, \"embeddings/20201001/SkipGram_80_20_kg_covid_19_20201001_training_test_epoch_500_delta_0.0001_embedding.npy\")\n",
    "embedding_file = os.path.join(embedding_data_dir, \"SkipGram_embedding.npy\")\n",
    "\n",
    "# params\n",
    "seed = 42\n",
    "train_percentage = 0.8\n",
    "patience = 5"
   ]
  },
  {
   "cell_type": "code",
   "execution_count": 2,
   "metadata": {},
   "outputs": [],
   "source": [
    "chembl_antiviral_smile_cosine_sim_outfile = \"chembl_antiviral_smile_and_cosine_sim.tsv\"\n",
    "\n",
    "chembl_antiviral_dir = os.path.join(base_dl_dir, \"chembl_antiviral-20201001\")\n",
    "chembl_antiviral_file = os.path.join(chembl_antiviral_dir, \"chembl_nodes.tsv\")\n",
    "chembl_antiviral_url = \"https://kg-hub.berkeleybop.io/kg-covid-19/20201001/transformed/ChEMBL/nodes.tsv\"\n",
    "\n",
    "chembl_prefix = 'CHEMBL.COMPOUND'"
   ]
  },
  {
   "cell_type": "code",
   "execution_count": 3,
   "metadata": {},
   "outputs": [],
   "source": [
    "from pkg_resources import get_distribution\n",
    "assert(get_distribution(\"ensmallen-graph\").version == '0.4.3')\n",
    "assert(get_distribution(\"embiggen\").version == '0.6.0')"
   ]
  },
  {
   "cell_type": "code",
   "execution_count": 4,
   "metadata": {},
   "outputs": [],
   "source": [
    "# download the graphs, if necessary\n",
    "\n",
    "import urllib\n",
    "import os\n",
    "os.makedirs(graph_data_dir, exist_ok=True)\n",
    "\n",
    "if not os.path.exists(nodes_file) or not os.path.exists(edges_file):\n",
    "    with urllib.request.urlopen(graph_tar_url) as response, \\\n",
    "        open(graph_out_file, 'wb') as out_file:\n",
    "            data = response.read()  # a `bytes` object\n",
    "            out_file.write(data)\n",
    "    os.system(\"tar -xvzf \" + graph_out_file + \" -C \" + graph_data_dir)"
   ]
  },
  {
   "cell_type": "markdown",
   "metadata": {},
   "source": [
    "## Retrieve the embeddings"
   ]
  },
  {
   "cell_type": "code",
   "execution_count": 5,
   "metadata": {},
   "outputs": [],
   "source": [
    "os.makedirs(embedding_data_dir, exist_ok=True)\n",
    "\n",
    "if not os.path.exists(embedding_file):\n",
    "    with urllib.request.urlopen(embeddings_url) as response, \\\n",
    "        open(embedding_file, 'wb') as out_file:\n",
    "            data = response.read()  # a `bytes` object\n",
    "            out_file.write(data)"
   ]
  },
  {
   "cell_type": "code",
   "execution_count": 6,
   "metadata": {
    "pycharm": {
     "is_executing": true
    }
   },
   "outputs": [
    {
     "name": "stdout",
     "output_type": "stream",
     "text": [
      "CPU times: user 1.82 ms, sys: 2.14 ms, total: 3.96 ms\n",
      "Wall time: 8.9 ms\n"
     ]
    }
   ],
   "source": [
    "%%time\n",
    "from ensmallen_graph import EnsmallenGraph\n",
    "\n",
    "if not os.path.exists(sorted_edges_file):\n",
    "    graph = EnsmallenGraph.from_unsorted_csv(\n",
    "        edge_path = edges_file,\n",
    "        sources_column=\"subject\",\n",
    "        destinations_column=\"object\",\n",
    "        directed=False,\n",
    "        node_path = nodes_file,\n",
    "        nodes_column = 'id',\n",
    "        node_types_column = 'category',\n",
    "        default_node_type = 'biolink:NamedThing'\n",
    "    )\n",
    "\n",
    "    graph.dump_edges(sorted_edges_file,\n",
    "        sources_column=\"subject\",\n",
    "        destinations_column=\"object\")"
   ]
  },
  {
   "cell_type": "code",
   "execution_count": 7,
   "metadata": {},
   "outputs": [
    {
     "data": {
      "text/plain": [
       "{'unique_edge_types_number': '0',\n",
       " 'singletons': '8314',\n",
       " 'nodes_number': '377577',\n",
       " 'directed': 'false',\n",
       " 'self_loops_number': '481',\n",
       " 'edges_number': '30949369',\n",
       " 'degree_mean': '81.96836406878597',\n",
       " 'self_loops_rate': '0.00001554151233261008',\n",
       " 'unique_node_types_number': '37',\n",
       " 'density': '0.037284237441157525'}"
      ]
     },
     "execution_count": 7,
     "metadata": {},
     "output_type": "execute_result"
    }
   ],
   "source": [
    "from ensmallen_graph import EnsmallenGraph\n",
    "\n",
    "graph = EnsmallenGraph.from_sorted_csv(\n",
    "    edge_path = sorted_edges_file,\n",
    "    sources_column=\"subject\",\n",
    "    destinations_column=\"object\",\n",
    "    directed=False,\n",
    "    nodes_number=377577,  # should be = or > than actual number\n",
    "    edges_number=30949369,   # same ^\n",
    "    node_path = nodes_file,\n",
    "    nodes_column = 'id',\n",
    "    node_types_column = 'category',\n",
    "    default_node_type = 'biolink:NamedThing'\n",
    ")\n",
    "\n",
    "graph.report()"
   ]
  },
  {
   "cell_type": "code",
   "execution_count": 8,
   "metadata": {
    "pycharm": {
     "is_executing": true
    }
   },
   "outputs": [
    {
     "name": "stdout",
     "output_type": "stream",
     "text": [
      "CPU times: user 2min 8s, sys: 1.84 s, total: 2min 10s\n",
      "Wall time: 2min 10s\n"
     ]
    }
   ],
   "source": [
    "%%time\n",
    "pos_training, pos_validation = graph.connected_holdout(train_percentage, seed=seed)"
   ]
  },
  {
   "cell_type": "markdown",
   "metadata": {},
   "source": [
    "The followings checks are not strictly necessary, but are offered as sanity checks:"
   ]
  },
  {
   "cell_type": "code",
   "execution_count": 9,
   "metadata": {
    "pycharm": {
     "is_executing": true
    }
   },
   "outputs": [
    {
     "name": "stdout",
     "output_type": "stream",
     "text": [
      "CPU times: user 3 µs, sys: 0 ns, total: 3 µs\n",
      "Wall time: 5.96 µs\n"
     ]
    }
   ],
   "source": [
    "%%time\n",
    "coherence_check=False\n",
    "if coherence_check:\n",
    "    assert graph.contains(pos_training)\n",
    "    assert graph.contains(pos_validation)\n",
    "    assert (pos_training | pos_validation).contains(graph)\n",
    "    assert graph.contains(pos_training | pos_validation)\n",
    "    assert not training.overlaps(pos_validation)\n",
    "    assert not validation.overlaps(pos_training)"
   ]
  },
  {
   "cell_type": "code",
   "execution_count": 10,
   "metadata": {
    "pycharm": {
     "is_executing": true
    },
    "scrolled": true
   },
   "outputs": [],
   "source": [
    "import numpy as np\n",
    "embeddings = np.load(embedding_file)"
   ]
  },
  {
   "cell_type": "code",
   "execution_count": 11,
   "metadata": {
    "pycharm": {
     "is_executing": true
    }
   },
   "outputs": [],
   "source": [
    "node_names = list(np.array(pos_training.get_nodes_reverse_mapping()))"
   ]
  },
  {
   "cell_type": "code",
   "execution_count": 12,
   "metadata": {
    "pycharm": {
     "is_executing": true
    }
   },
   "outputs": [],
   "source": [
    "assert len(pos_training.get_nodes_reverse_mapping()) == len(embeddings)"
   ]
  },
  {
   "cell_type": "code",
   "execution_count": 13,
   "metadata": {
    "pycharm": {
     "is_executing": true
    }
   },
   "outputs": [],
   "source": [
    "assert len(pos_training.get_node_types()) == len(embeddings)"
   ]
  },
  {
   "cell_type": "markdown",
   "metadata": {},
   "source": [
    "### Okay, right now there are two nodes in the graph representing SARS-CoV-2, due to how external DBs refer to this virus. We'll add both here, but in tests, I'd recommend using 'CHEMBL.TARGET:CHEMBL4303835'"
   ]
  },
  {
   "cell_type": "code",
   "execution_count": 14,
   "metadata": {},
   "outputs": [],
   "source": [
    "sars_cov_2_curie = 'CHEMBL.TARGET:CHEMBL4303835'\n",
    "sars_cov_2_curie_alt = 'NCBITaxon:2697049'"
   ]
  },
  {
   "cell_type": "markdown",
   "metadata": {
    "pycharm": {
     "name": "#%% md\n"
    }
   },
   "source": [
    "### add the graph nodes representating SARS-CoV-2 as a column (nodes of interest)"
   ]
  },
  {
   "cell_type": "code",
   "execution_count": 15,
   "metadata": {},
   "outputs": [],
   "source": [
    "nodes_of_interest = [\n",
    "    {'name': 'SARS-CoV-2',\n",
    "     'curie': sars_cov_2_curie,\n",
    "     'node_id': node_names.index(sars_cov_2_curie),\n",
    "    },\n",
    "    {'name': 'SARS-CoV-2 (alternate node)',\n",
    "     'curie': sars_cov_2_curie_alt,\n",
    "     'node_id': node_names.index(sars_cov_2_curie_alt),\n",
    "    },\n",
    "]"
   ]
  },
  {
   "cell_type": "markdown",
   "metadata": {
    "pycharm": {
     "name": "#%% md\n"
    }
   },
   "source": [
    "### add graph nodes for all SARS-CoV-2 proteins/cleavage products as columns too"
   ]
  },
  {
   "cell_type": "code",
   "execution_count": 16,
   "metadata": {
    "pycharm": {
     "name": "#%%\n"
    },
    "scrolled": true
   },
   "outputs": [],
   "source": [
    "import wget\n",
    "\n",
    "if not os.path.exists(\"uniprot_sars-cov-2.gpi\"):\n",
    "    url = \"https://raw.githubusercontent.com/Knowledge-Graph-Hub/kg-covid-19/master/curated/ORFs/uniprot_sars-cov-2.gpi\"\n",
    "    filename = wget.download(url)\n",
    "\n",
    "with open(\"uniprot_sars-cov-2.gpi\", 'r') as gpi:\n",
    "    lines = gpi.readlines()\n",
    "    # print(\"NAME\\tDB ID\")\n",
    "    for line in lines:\n",
    "        if line.startswith(\"!\"):\n",
    "            continue\n",
    "        fields = line.split(\"\\t\")\n",
    "        this_curie = \":\".join([fields[0], fields[1]])\n",
    "        nodes_of_interest.append({'name': fields[2],\n",
    "                                  'curie': this_curie,\n",
    "                                  'node_id': node_names.index(this_curie)\n",
    "                                 })\n",
    "        # print(\"%s\\t%s\" % (fields[2], \":\".join([fields[0], fields[1]])))"
   ]
  },
  {
   "cell_type": "code",
   "execution_count": 17,
   "metadata": {},
   "outputs": [],
   "source": [
    "# get chembl antiviral nodes file\n",
    "import wget\n",
    "\n",
    "os.makedirs(chembl_antiviral_dir, exist_ok=True)\n",
    "\n",
    "if not os.path.exists(chembl_antiviral_file):\n",
    "    filename = wget.download(chembl_antiviral_url, chembl_antiviral_file)"
   ]
  },
  {
   "cell_type": "code",
   "execution_count": 18,
   "metadata": {},
   "outputs": [],
   "source": [
    "import re\n",
    "\n",
    "chembl_antiviral_curies = []\n",
    "chembl_antiviral_names = []\n",
    "chembl_antiviral_smile = []\n",
    "\n",
    "with open(chembl_antiviral_file, 'r') as f:\n",
    "    header = f.readline().split(\"\\t\")\n",
    "    while line := f.readline():\n",
    "        items = line.split(\"\\t\")\n",
    "        this_id = items[header.index(\"id\")]\n",
    "        this_name = items[header.index(\"name\")]\n",
    "        this_smile = items[header.index(\"canonical_smiles\")]\n",
    "        if re.match(chembl_prefix, this_id):\n",
    "            chembl_antiviral_curies.append(this_id)\n",
    "            chembl_antiviral_names.append(this_name)\n",
    "            chembl_antiviral_smile.append(this_smile)"
   ]
  },
  {
   "cell_type": "code",
   "execution_count": 19,
   "metadata": {
    "pycharm": {
     "is_executing": true
    }
   },
   "outputs": [],
   "source": [
    "# import re\n",
    "# chembl_prefix = 'CHEMBL.COMPOUND'\n",
    "# chembl_names = [x for x in node_names if (match := re.compile(chembl_prefix).search(x))]\n",
    "# chembl_idx = [index for index, x in enumerate(node_names) if (match := re.compile(chembl_prefix).search(x))]\n",
    "# len(chembl_names)"
   ]
  },
  {
   "cell_type": "code",
   "execution_count": 20,
   "metadata": {
    "pycharm": {
     "name": "#%%\n"
    }
   },
   "outputs": [
    {
     "ename": "NameError",
     "evalue": "name 'chembl_antiviral_idx' is not defined",
     "output_type": "error",
     "traceback": [
      "\u001B[0;31m---------------------------------------------------------------------------\u001B[0m",
      "\u001B[0;31mNameError\u001B[0m                                 Traceback (most recent call last)",
      "\u001B[0;32m<ipython-input-20-29291659805f>\u001B[0m in \u001B[0;36m<module>\u001B[0;34m\u001B[0m\n\u001B[0;32m----> 1\u001B[0;31m \u001B[0mchembl_antiviral_cosine_sim\u001B[0m \u001B[0;34m=\u001B[0m \u001B[0mnp\u001B[0m\u001B[0;34m.\u001B[0m\u001B[0mfull\u001B[0m\u001B[0;34m(\u001B[0m\u001B[0;34m(\u001B[0m\u001B[0mlen\u001B[0m\u001B[0;34m(\u001B[0m\u001B[0mchembl_antiviral_idx\u001B[0m\u001B[0;34m)\u001B[0m\u001B[0;34m,\u001B[0m \u001B[0mlen\u001B[0m\u001B[0;34m(\u001B[0m\u001B[0mnodes_of_interest\u001B[0m\u001B[0;34m)\u001B[0m\u001B[0;34m)\u001B[0m\u001B[0;34m,\u001B[0m \u001B[0;34m-\u001B[0m\u001B[0;36m1000.0000\u001B[0m\u001B[0;34m)\u001B[0m\u001B[0;34m\u001B[0m\u001B[0;34m\u001B[0m\u001B[0m\n\u001B[0m\u001B[1;32m      2\u001B[0m \u001B[0;34m\u001B[0m\u001B[0m\n\u001B[1;32m      3\u001B[0m \u001B[0;31m# precompute node idx to speed things up\u001B[0m\u001B[0;34m\u001B[0m\u001B[0;34m\u001B[0m\u001B[0;34m\u001B[0m\u001B[0m\n\u001B[1;32m      4\u001B[0m \u001B[0mchembl_antiviral_node_idx\u001B[0m \u001B[0;34m=\u001B[0m \u001B[0;34m[\u001B[0m\u001B[0mnode_names\u001B[0m\u001B[0;34m.\u001B[0m\u001B[0mindex\u001B[0m\u001B[0;34m(\u001B[0m\u001B[0mi\u001B[0m\u001B[0;34m)\u001B[0m \u001B[0;32mfor\u001B[0m \u001B[0mi\u001B[0m \u001B[0;32min\u001B[0m \u001B[0mchembl_antiviral_curies\u001B[0m\u001B[0;34m]\u001B[0m\u001B[0;34m\u001B[0m\u001B[0;34m\u001B[0m\u001B[0m\n\u001B[1;32m      5\u001B[0m \u001B[0mnodes_of_interest_node_idx\u001B[0m \u001B[0;34m=\u001B[0m \u001B[0;34m[\u001B[0m\u001B[0mnode_names\u001B[0m\u001B[0;34m.\u001B[0m\u001B[0mindex\u001B[0m\u001B[0;34m(\u001B[0m\u001B[0mi\u001B[0m\u001B[0;34m.\u001B[0m\u001B[0mget\u001B[0m\u001B[0;34m(\u001B[0m\u001B[0;34m\"curie\"\u001B[0m\u001B[0;34m)\u001B[0m\u001B[0;34m)\u001B[0m \u001B[0;32mfor\u001B[0m \u001B[0mi\u001B[0m \u001B[0;32min\u001B[0m \u001B[0mnodes_of_interest\u001B[0m\u001B[0;34m]\u001B[0m\u001B[0;34m\u001B[0m\u001B[0;34m\u001B[0m\u001B[0m\n",
      "\u001B[0;31mNameError\u001B[0m: name 'chembl_antiviral_idx' is not defined"
     ]
    }
   ],
   "source": [
    "chembl_antiviral_cosine_sim = np.full((len(chembl_antiviral_idx), len(nodes_of_interest)), -1000.0000)\n",
    "\n",
    "# precompute node idx to speed things up\n",
    "chembl_antiviral_node_idx = [node_names.index(i) for i in chembl_antiviral_curies]\n",
    "nodes_of_interest_node_idx = [node_names.index(i.get(\"curie\")) for i in nodes_of_interest]\n",
    "\n",
    "for i, antiviral_curie in tqdm(enumerate(chembl_antiviral_curies)):\n",
    "    for j, node_of_interest in enumerate(nodes_of_interest):\n",
    "        antiviral_emb = embeddings[chembl_antiviral_node_idx[i]]\n",
    "        noi_emb = embeddings[nodes_of_interest_node_idx[j]]\n",
    "        chembl_antiviral_cosine_sim[i,j] = 1 - spatial.distance.cosine(antiviral_emb, noi_emb)"
   ]
  },
  {
   "cell_type": "code",
   "execution_count": null,
   "metadata": {
    "pycharm": {
     "name": "#%%\n"
    }
   },
   "outputs": [],
   "source": [
    "# why not\n",
    "import matplotlib.pyplot as plt\n",
    "import numpy as np\n",
    "\n",
    "plt.imshow(chembl_antiviral_cosine_sim, cmap='jet', aspect='auto')\n",
    "plt.title(\"Cosine similarity - ChEMBL antivirals vs SARS-CoV-2\")\n",
    "plt.xlabel('SARS-CoV-2', fontsize=18)\n",
    "plt.ylabel('ChEMBL antivirals', fontsize=16)\n",
    "plt.xticks(ticks=np.arange(len(nodes_of_interest)),\n",
    "           labels=[n.get('name') for n in nodes_of_interest],\n",
    "           rotation=90\n",
    "          )\n",
    "plt.savefig('chembl_vs_sars_cosine_sim.pdf')\n",
    "plt.show()\n"
   ]
  },
  {
   "cell_type": "code",
   "execution_count": null,
   "metadata": {
    "pycharm": {
     "name": "#%%\n"
    }
   },
   "outputs": [],
   "source": [
    "z = chembl_antiviral_cosine_sim.copy()\n",
    "z[z < 0] = 0\n",
    "\n",
    "plt.imshow(z, cmap='jet', aspect='auto')\n",
    "plt.title(\"Cosine similarity - ChEMBL antivirals vs SARS-CoV-2\")\n",
    "plt.xlabel('SARS-CoV-2', fontsize=18)\n",
    "plt.ylabel('ChEMBL antivirals', fontsize=16)\n",
    "plt.xticks(ticks=np.arange(len(nodes_of_interest)),\n",
    "           labels=[n.get('name') for n in nodes_of_interest],\n",
    "           rotation=90)\n",
    "plt.show()"
   ]
  },
  {
   "cell_type": "code",
   "execution_count": null,
   "metadata": {
    "pycharm": {
     "name": "#%%\n"
    }
   },
   "outputs": [],
   "source": [
    "chembl_antivirals_ranked_by_sars_cov_2 = [[x,y] for y,x in sorted(zip(chembl_antiviral_cosine_sim[:,0],chembl_antiviral_names), reverse=True)]"
   ]
  },
  {
   "cell_type": "code",
   "execution_count": null,
   "metadata": {
    "pycharm": {
     "name": "#%%\n"
    }
   },
   "outputs": [],
   "source": [
    "chembl_antivirals_ranked_by_sars_cov_2_alt = [[x,y] for y,x in sorted(zip(chembl_antiviral_cosine_sim[:,1],chembl_antiviral_names), reverse=True)]"
   ]
  },
  {
   "cell_type": "code",
   "execution_count": null,
   "metadata": {
    "pycharm": {
     "name": "#%%\n"
    }
   },
   "outputs": [],
   "source": [
    "chembl_antivirals_ranked_by_sars_cov_2_both = [[x,y] for y,x in sorted(zip(chembl_antiviral_cosine_sim[:,0]*chembl_antiviral_cosine_sim[:,1],chembl_antiviral_names), reverse=True)]"
   ]
  },
  {
   "cell_type": "code",
   "execution_count": null,
   "metadata": {
    "pycharm": {
     "name": "#%%\n"
    }
   },
   "outputs": [],
   "source": [
    "chembl_antivirals_ranked_by_sars_cov_2_both"
   ]
  },
  {
   "cell_type": "code",
   "execution_count": null,
   "metadata": {
    "pycharm": {
     "name": "#%%\n"
    }
   },
   "outputs": [],
   "source": [
    "1 - spatial.distance.cosine(antiviral_emb, noi_emb)"
   ]
  },
  {
   "cell_type": "code",
   "execution_count": null,
   "metadata": {},
   "outputs": [],
   "source": [
    "1 - spatial.distance.cosine(antiviral_emb, noi_emb)"
   ]
  },
  {
   "cell_type": "code",
   "execution_count": null,
   "metadata": {},
   "outputs": [],
   "source": [
    "# why not\n",
    "import matplotlib.pyplot as plt\n",
    "import numpy as np\n",
    "\n",
    "plt.imshow(chembl_antiviral_cosine_sim, cmap='jet', aspect='auto')\n",
    "plt.title(\"Cosine similarity - ChEMBL antivirals vs SARS-CoV-2\")\n",
    "plt.xlabel('SARS-CoV-2', fontsize=18)\n",
    "plt.ylabel('ChEMBL antivirals', fontsize=16)\n",
    "plt.xticks(ticks=np.arange(len(nodes_of_interest)),\n",
    "           labels=[n.get('name') for n in nodes_of_interest],\n",
    "           rotation=90\n",
    "          )\n",
    "plt.savefig('chembl_vs_sars_cosine_sim.pdf')\n",
    "plt.show()\n"
   ]
  },
  {
   "cell_type": "code",
   "execution_count": null,
   "metadata": {
    "scrolled": false
   },
   "outputs": [],
   "source": [
    "z = chembl_antiviral_cosine_sim.copy()\n",
    "z[z < 0] = 0\n",
    "\n",
    "plt.imshow(z, cmap='jet', aspect='auto')\n",
    "plt.title(\"Cosine similarity - ChEMBL antivirals vs SARS-CoV-2\")\n",
    "plt.xlabel('SARS-CoV-2', fontsize=18)\n",
    "plt.ylabel('ChEMBL antivirals', fontsize=16)\n",
    "plt.xticks(ticks=np.arange(len(nodes_of_interest)),\n",
    "           labels=[n.get('name') for n in nodes_of_interest],\n",
    "           rotation=90)\n",
    "plt.show()"
   ]
  },
  {
   "cell_type": "code",
   "execution_count": null,
   "metadata": {
    "scrolled": true
   },
   "outputs": [],
   "source": [
    "chembl_antivirals_ranked_by_sars_cov_2 = [[x,y] for y,x in sorted(zip(chembl_antiviral_cosine_sim[:,0],chembl_antiviral_names), reverse=True)]\n",
    "chembl_antivirals_ranked_by_sars_cov_2_alt = [[x,y] for y,x in sorted(zip(chembl_antiviral_cosine_sim[:,1],chembl_antiviral_names), reverse=True)]\n",
    "chembl_antivirals_ranked_by_sars_cov_2_both = [[x,y] for y,x in sorted(zip(chembl_antiviral_cosine_sim[:,0]*chembl_antiviral_cosine_sim[:,1],chembl_antiviral_names), reverse=True)]\n",
    "chembl_antivirals_ranked_by_sars_cov_2_both"
   ]
  },
  {
   "cell_type": "markdown",
   "metadata": {
    "pycharm": {
     "name": "#%% md\n"
    }
   },
   "source": [
    "#### sanity check:"
   ]
  },
  {
   "cell_type": "code",
   "execution_count": null,
   "metadata": {},
   "outputs": [],
   "source": [
    "import numpy as np\n",
    "assert(\n",
    "    len(np.unique(\n",
    "        chembl_antiviral_cosine_sim.shape[0],\n",
    "        len(chembl_antiviral_curies),\n",
    "        len(chembl_antiviral_names),\n",
    "        len(chembl_antiviral_smile)\n",
    "    )) == 1\n",
    ")"
   ]
  },
  {
   "cell_type": "markdown",
   "source": [
    "#### write out TSV file"
   ],
   "metadata": {
    "collapsed": false
   }
  },
  {
   "cell_type": "code",
   "execution_count": null,
   "outputs": [],
   "source": [
    "# with open(chembl_antiviral_smile_cosine_sim_outfile, 'w') as outfile:\n",
    "#     for i in chembl_antiviral_cosine_sim.sh"
   ],
   "metadata": {
    "collapsed": false,
    "pycharm": {
     "name": "#%%\n"
    }
   }
  },
  {
   "cell_type": "markdown",
   "metadata": {},
   "source": [
    "# with open(chembl_antiviral_smile_cosine_sim_outfile, 'w') as outfile:\n",
    "#     for i in chembl_antiviral_cosine_sim.sh"
   ]
  },
  {
   "cell_type": "code",
   "execution_count": null,
   "metadata": {},
   "outputs": [],
   "source": [
    "# with open(chembl_antiviral_smile_cosine_sim_outfile, 'w') as outfile:\n",
    "#     for i in chembl_antiviral_cosine_sim.sh"
   ]
  }
 ],
 "metadata": {
  "kernelspec": {
   "display_name": "Python 3",
   "language": "python",
   "name": "python3"
  },
  "language_info": {
   "codemirror_mode": {
    "name": "ipython",
    "version": 3
   },
   "file_extension": ".py",
   "mimetype": "text/x-python",
   "name": "python",
   "nbconvert_exporter": "python",
   "pygments_lexer": "ipython3",
   "version": "3.8.6"
  }
 },
 "nbformat": 4,
 "nbformat_minor": 4
}