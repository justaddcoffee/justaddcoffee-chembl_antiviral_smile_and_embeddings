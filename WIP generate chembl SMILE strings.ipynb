{
 "cells": [
  {
   "cell_type": "markdown",
   "metadata": {},
   "source": [
    "# Create data structure to inform GCPN loss function using KG-COVID-19 embeddings\n",
    "\n",
    "In this notebook, we wake a data structure to be used to inform a GCPN loss function with\n",
    "information from embeddings of the KG-COVID-19 knowledge graph. This graph contains a broad\n",
    "array of information about COVID-19 and SARS-CoV-2 ([detailed here](https://knowledge-graph-hub.github.io/kg-covid-19-dashboard/)).\n",
    "\n",
    "The data structure we produce will be a 2D matrix comprised of the 6,900 ChEMBL antiviral compounds as rows,\n",
    "important SARS-CoV-2 entities represented as nodes in our KG (such as SARS-CoV-2 itself, protein cleavage\n",
    "products like ADRP and Mpro, etc) as columns. The value in the matrix will be the cosine similarity\n",
    "between the embedding of the node for the ChEMBL antiviral in the row and the embedding of the node for\n",
    "the SARS-CoV-2 entity in that column. The matrix will be output as a TSV. The SMILE string representation of each ChEMBL antiviral will also be output as an additional column so that Tanimoto similarity can be calculated.\n",
    "\n",
    "The data structure produced here will be used to investigate whether embeddings of the COVID-19 KG\n",
    "can be used to guide GCPNs in producing more useful/viable antivirals for COVID-19 treatment. Specifically,\n",
    "for each compound produced by GCPN, a loss function might be defined using the product of the Tanimoto similarity and cosine similarity for the ChEMBL antivirals, something like:\n",
    "\n",
    "$L = -max^{n}_{i=1}(tanimoto(C^{gcpn}, C^{chembl}_i) * cosine\\_sim(C^{chembl}_i, N^{interest}))$\n",
    "\n",
    "where n is the number of ChEMBL antivirals, N is the SARS-CoV-2 node of interest (ADRP, Mpro, SARS-CoV-2 itself, etc) that is to be targeted by the therapeutic.\n",
    "\n",
    "Conceptually this should confine the GCPN to some boundary of \"druglikeness\" as defined by similarity to ChEMBL antivirals and their ability to target the drug target of interest.\n",
    "\n",
    "CAVEAT: these embeddings were created with a version of ensmallen_graph that has a known issue producing holdouts (too few test edges held out). This probably will not affect the quality of the embeddings, but we will need to redo these embeddings before any results are published just to be safe."
   ]
  },
  {
   "cell_type": "markdown",
   "metadata": {},
   "source": [
    "## Loading the KG-COVID-19 knowledge graph\n",
    "We need to load the graphs and redo the training/test split exactly as we did when generating the embeddings in order to retrieve the labels for the embedddings"
   ]
  },
  {
   "cell_type": "code",
   "execution_count": 10,
   "metadata": {
    "scrolled": false
   },
   "outputs": [
    {
     "name": "stdout",
     "output_type": "stream",
     "text": [
      "Requirement already satisfied: ensmallen_graph==0.3.6 in ./venv/lib/python3.7/site-packages (0.3.6)\r\n",
      "Requirement already satisfied: toml~=0.10.0 in ./venv/lib/python3.7/site-packages (from ensmallen_graph==0.3.6) (0.10.1)\r\n"
     ]
    }
   ],
   "source": [
    "!pip install ensmallen_graph==0.3.6"
   ]
  },
  {
   "cell_type": "code",
   "execution_count": 11,
   "metadata": {},
   "outputs": [],
   "source": [
    "graph_data_dir = \"data\""
   ]
  },
  {
   "cell_type": "code",
   "execution_count": 12,
   "metadata": {
    "pycharm": {
     "is_executing": true
    }
   },
   "outputs": [
    {
     "data": {
      "text/plain": [
       "0"
      ]
     },
     "execution_count": 12,
     "metadata": {},
     "output_type": "execute_result"
    }
   ],
   "source": [
    "# Get the graphs from Zenodo. This zenodo upload also contains embeddings from an unrelated experiment.\n",
    "# (We are using a different (better) set of embeddings from those contained in this zenodo upload - we load these\n",
    "# later on below.)\n",
    "\n",
    "import urllib\n",
    "import os\n",
    "os.makedirs(graph_data_dir, exist_ok=True)\n",
    "if not os.path.exists(graph_data_dir + \"/kg-covid-19-skipgram-aug-2020.tar.gz\"):\n",
    "    with urllib.request.urlopen(\"https://zenodo.org/record/4011267/files/kg-covid-19-skipgram-aug-2020.tar.gz\") as response, \\\n",
    "        open(graph_data_dir + \"/kg-covid-19-skipgram-aug-2020.tar.gz\", 'wb') as out_file:\n",
    "            data = response.read()  # a `bytes` object\n",
    "            out_file.write(data)\n",
    "\n",
    "os.system(\"tar -xvzf \" + graph_data_dir + \"/kg-covid-19-skipgram-aug-2020.tar.gz -C \" + graph_data_dir)"
   ]
  },
  {
   "cell_type": "code",
   "execution_count": 13,
   "metadata": {
    "pycharm": {
     "is_executing": true
    }
   },
   "outputs": [
    {
     "name": "stdout",
     "output_type": "stream",
     "text": [
      "CPU times: user 6min 22s, sys: 10 s, total: 6min 32s\n",
      "Wall time: 6min 32s\n"
     ]
    }
   ],
   "source": [
    "%%time\n",
    "from ensmallen_graph import EnsmallenGraph\n",
    "\n",
    "graph = EnsmallenGraph.from_csv(\n",
    "    edge_path= graph_data_dir + \"/merged-kg_edges.tsv\",\n",
    "    sources_column=\"subject\",\n",
    "    destinations_column=\"object\",\n",
    "    directed=False,\n",
    "    default_edge_type=\"biolink:association\",\n",
    "    node_path= graph_data_dir + \"/merged-kg_nodes.tsv\",\n",
    "    nodes_column=\"id\",\n",
    "    node_types_column=\"category\",\n",
    "    default_node_type=\"biolink:NamedThing\",\n",
    "    ignore_duplicated_edges=True,\n",
    "    ignore_duplicated_nodes=True,\n",
    "    force_conversion_to_undirected=True\n",
    ")"
   ]
  },
  {
   "cell_type": "code",
   "execution_count": 14,
   "metadata": {
    "pycharm": {
     "is_executing": true
    },
    "scrolled": true
   },
   "outputs": [
    {
     "data": {
      "text/plain": [
       "{'degrees_mode': '1',\n",
       " 'degrees_max': '90378',\n",
       " 'bidirectional_rate': '1',\n",
       " 'nodes_number': '375365',\n",
       " 'degrees_median': '6',\n",
       " 'unique_edge_types_number': '0',\n",
       " 'unique_node_types_number': '36',\n",
       " 'degrees_min': '0',\n",
       " 'selfloops_rate': '0.000015391581103247148',\n",
       " 'strongly_connected_components_number': '8976',\n",
       " 'degrees_mean': '82.21604837957722',\n",
       " 'edges_number': '30861027',\n",
       " 'traps_rate': '0.021906677500566116',\n",
       " 'connected_components_number': '8976',\n",
       " 'density': '0.00021902960686152735',\n",
       " 'singleton_nodes': '8223',\n",
       " 'is_directed': 'false'}"
      ]
     },
     "execution_count": 14,
     "metadata": {},
     "output_type": "execute_result"
    }
   ],
   "source": [
    "graph.report()"
   ]
  },
  {
   "cell_type": "code",
   "execution_count": 15,
   "metadata": {
    "pycharm": {
     "is_executing": true
    }
   },
   "outputs": [],
   "source": [
    "training, validation = graph.connected_holdout(42, 0.8)"
   ]
  },
  {
   "cell_type": "code",
   "execution_count": 16,
   "metadata": {
    "pycharm": {
     "is_executing": true
    }
   },
   "outputs": [
    {
     "data": {
      "text/plain": [
       "{'degrees_median': '5',\n",
       " 'degrees_mean': '65.77283976929122',\n",
       " 'degrees_min': '0',\n",
       " 'bidirectional_rate': '1',\n",
       " 'strongly_connected_components_number': '8976',\n",
       " 'connected_components_number': '8976',\n",
       " 'selfloops_rate': '0.000014743514291609376',\n",
       " 'nodes_number': '375365',\n",
       " 'unique_edge_types_number': '0',\n",
       " 'edges_number': '24688822',\n",
       " 'singleton_nodes': '8233',\n",
       " 'degrees_max': '71988',\n",
       " 'degrees_mode': '1',\n",
       " 'unique_node_types_number': '36',\n",
       " 'is_directed': 'false',\n",
       " 'density': '0.0001752236883281372',\n",
       " 'traps_rate': '0.021933318236916067'}"
      ]
     },
     "execution_count": 16,
     "metadata": {},
     "output_type": "execute_result"
    }
   ],
   "source": [
    "training.report()"
   ]
  },
  {
   "cell_type": "code",
   "execution_count": 17,
   "metadata": {
    "pycharm": {
     "is_executing": true
    },
    "scrolled": true
   },
   "outputs": [
    {
     "data": {
      "text/plain": [
       "{'edges_number': '6172205',\n",
       " 'bidirectional_rate': '1',\n",
       " 'degrees_min': '0',\n",
       " 'connected_components_number': '162705',\n",
       " 'unique_edge_types_number': '0',\n",
       " 'degrees_median': '1',\n",
       " 'degrees_max': '18390',\n",
       " 'strongly_connected_components_number': '162705',\n",
       " 'traps_rate': '0.42166957494705154',\n",
       " 'density': '0.000043805918533390134',\n",
       " 'is_directed': 'false',\n",
       " 'nodes_number': '375365',\n",
       " 'degrees_mode': '0',\n",
       " 'unique_node_types_number': '36',\n",
       " 'selfloops_rate': '0.00001798384855979346',\n",
       " 'degrees_mean': '16.44320861028599',\n",
       " 'singleton_nodes': '158280'}"
      ]
     },
     "execution_count": 17,
     "metadata": {},
     "output_type": "execute_result"
    }
   ],
   "source": [
    "validation.report()"
   ]
  },
  {
   "cell_type": "markdown",
   "metadata": {},
   "source": [
    "The followings checks are not strictly necessary, but are offered as sanity checks:"
   ]
  },
  {
   "cell_type": "code",
   "execution_count": 18,
   "metadata": {
    "pycharm": {
     "is_executing": true
    }
   },
   "outputs": [],
   "source": [
    "assert graph > training\n",
    "assert graph > validation\n",
    "assert (training + validation).contains(graph)\n",
    "assert graph.contains(training + validation)\n",
    "assert not training.overlaps(validation)\n",
    "assert not validation.overlaps(training)"
   ]
  },
  {
   "cell_type": "markdown",
   "metadata": {},
   "source": [
    "## Loading the embeddings"
   ]
  },
  {
   "cell_type": "code",
   "execution_count": 19,
   "metadata": {
    "pycharm": {
     "is_executing": true
    }
   },
   "outputs": [],
   "source": [
    "# https://zenodo.org/record/4019808/files/SkipGram_80_20_training_test_epoch_500_delta_0.0001_embedding.npy?download=1\n",
    "embedding_dir = \"link_prediction_experiment_embeddings\"\n",
    "embedding_file = os.path.join(embedding_dir, \"SkipGram_embedding.npy\")\n",
    "os.makedirs(embedding_dir, exist_ok=True)\n",
    "\n",
    "with urllib.request.urlopen(\"https://zenodo.org/record/4019808/files/SkipGram_80_20_training_test_epoch_500_delta_0.0001_embedding.npy\") as response, \\\n",
    "    open(embedding_file, 'wb') as out_file:\n",
    "        data = response.read()  # a `bytes` object\n",
    "        out_file.write(data)"
   ]
  },
  {
   "cell_type": "code",
   "execution_count": 23,
   "metadata": {
    "pycharm": {
     "is_executing": true
    },
    "scrolled": true
   },
   "outputs": [
    {
     "name": "stdout",
     "output_type": "stream",
     "text": [
      "Collecting numpy\n",
      "  Using cached numpy-1.19.2-cp37-cp37m-macosx_10_9_x86_64.whl (15.3 MB)\n",
      "Installing collected packages: numpy\n",
      "Successfully installed numpy-1.19.2\n"
     ]
    }
   ],
   "source": [
    "!pip install numpy\n",
    "import numpy as np\n",
    "embedding_file = os.path.join(graph_data_dir, \"SkipGram_embedding.npy\")\n",
    "embeddings = np.load(embedding_file)"
   ]
  },
  {
   "cell_type": "code",
   "execution_count": 29,
   "metadata": {
    "pycharm": {
     "is_executing": true
    }
   },
   "outputs": [],
   "source": [
    "node_names = list(np.array(training.nodes_reverse_mapping))"
   ]
  },
  {
   "cell_type": "code",
   "execution_count": 25,
   "metadata": {
    "pycharm": {
     "is_executing": true
    }
   },
   "outputs": [],
   "source": [
    "assert len(training.nodes_reverse_mapping) == len(embeddings)"
   ]
  },
  {
   "cell_type": "code",
   "execution_count": 26,
   "metadata": {
    "pycharm": {
     "is_executing": true
    }
   },
   "outputs": [],
   "source": [
    "assert len(training.node_types) == len(embeddings)"
   ]
  },
  {
   "cell_type": "code",
   "execution_count": 27,
   "metadata": {
    "pycharm": {
     "is_executing": true
    }
   },
   "outputs": [],
   "source": [
    "# get embeddings for Nodes of interest\n",
    "sars_cov_2_name = 'CHEMBL.TARGET:CHEMBL4303835'\n",
    "<http://identifiers.org/uniprot/P0DTD1-PRO_0000449623"
   ]
  },
  {
   "cell_type": "code",
   "execution_count": 30,
   "metadata": {
    "pycharm": {
     "is_executing": true
    }
   },
   "outputs": [],
   "source": [
    "sars_cov_2_idx = node_names.index(sars_cov_2_name)"
   ]
  },
  {
   "cell_type": "code",
   "execution_count": null,
   "metadata": {
    "pycharm": {
     "is_executing": true
    }
   },
   "outputs": [],
   "source": [
    "chembl_prefix = 'CHEMBL.COMPOUND'\n",
    "chembl_names = [x for x in node_names if (match := re.compile(chembl_prefix).search(x))]\n",
    "chembl_idx = [index for index, x in enumerate(node_names) if (match := re.compile(chembl_prefix).search(x))]"
   ]
  },
  {
   "cell_type": "code",
   "execution_count": null,
   "metadata": {
    "pycharm": {
     "is_executing": true
    }
   },
   "outputs": [],
   "source": [
    "sars_cov_2_emb = embeddings[sars_cov_2_idx]"
   ]
  },
  {
   "cell_type": "code",
   "execution_count": null,
   "metadata": {
    "pycharm": {
     "is_executing": true
    }
   },
   "outputs": [],
   "source": [
    "from embiggen import GraphTransformer, EdgeTransformer\n",
    "\n",
    "assert(mlp_model[0] in EdgeTransformer.methods)\n",
    "\n",
    "transformer = GraphTransformer(mlp_model[0]) # pass edge embedding method, which is mlp_model[0]\n",
    "transformer.fit(embeddings)\n",
    "train_edges = transformer.transform(training)\n",
    "assert(training.get_edges_number() == len(train_edges))"
   ]
  },
  {
   "cell_type": "code",
   "execution_count": null,
   "metadata": {
    "pycharm": {
     "is_executing": true
    }
   },
   "outputs": [],
   "source": [
    "# let's try to predict a link that should exist in training graph\n",
    "# example SARS-CoV-2 -> ChEMBL compound edge (which should be positive)\n",
    "example_chembl_edge = train_edges[training.get_edge_id(sars_cov_2_idx, chembl_idx[0])]\n",
    "example_chembl_edge.shape\n",
    "example_chembl_edge.__class__\n",
    "mlp_model[1].predict(example_chembl_edge)"
   ]
  },
  {
   "cell_type": "code",
   "execution_count": null,
   "metadata": {
    "pycharm": {
     "is_executing": true
    }
   },
   "outputs": [],
   "source": []
  }
 ],
 "metadata": {
  "kernelspec": {
   "display_name": "Python 3",
   "language": "python",
   "name": "python3"
  },
  "language_info": {
   "codemirror_mode": {
    "name": "ipython",
    "version": 3
   },
   "file_extension": ".py",
   "mimetype": "text/x-python",
   "name": "python",
   "nbconvert_exporter": "python",
   "pygments_lexer": "ipython3",
   "version": "3.7.3"
  }
 },
 "nbformat": 4,
 "nbformat_minor": 4
}