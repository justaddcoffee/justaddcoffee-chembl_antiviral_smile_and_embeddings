{
 "cells": [
  {
   "cell_type": "markdown",
   "metadata": {},
   "source": [
    "# Create data structure to inform GCPN loss function using KG-COVID-19 embeddings\n",
    "\n",
    "In this notebook, we make a data structure to be used to inform a GCPN loss function with\n",
    "information from embeddings of the KG-COVID-19 knowledge graph. This graph contains a broad\n",
    "array of information about COVID-19 and SARS-CoV-2 ([detailed here](https://knowledge-graph-hub.github.io/kg-covid-19-dashboard/)).\n",
    "\n",
    "The data structure we produce will be a 2D matrix comprised of the 6,900 ChEMBL antiviral compounds as rows,\n",
    "important SARS-CoV-2 entities represented as nodes in our KG (such as SARS-CoV-2 itself, protein cleavage\n",
    "products like ADRP and Mpro, etc) as columns. The value in the matrix will be the cosine similarity\n",
    "between the embedding of the node for the ChEMBL antiviral in the row and the embedding of the node for\n",
    "the SARS-CoV-2 entity in that column. The matrix will be output as a TSV. The SMILE string representation of each ChEMBL antiviral will also be output as an additional column so that Tanimoto similarity can be calculated.\n",
    "\n",
    "The data structure produced here will be used to investigate whether embeddings of the COVID-19 KG\n",
    "can be used to guide GCPNs in producing more useful/viable antivirals for COVID-19 treatment. Specifically,\n",
    "for each compound produced by GCPN, a loss function might be defined using the product of the Tanimoto similarity and cosine similarity for the ChEMBL antivirals, something like:\n",
    "\n",
    "$L = -max^{n}_{i=1}(tanimoto(C^{gcpn}, C^{chembl}_i) * cosine\\_sim(C^{chembl}_i, N^{interest}))$\n",
    "\n",
    "\n",
    "where n is the number of ChEMBL antivirals, N is the SARS-CoV-2 node of interest (ADRP, Mpro, SARS-CoV-2 itself, etc) that is to be targeted by the therapeutic.\n",
    "\n",
    "Conceptually this should confine the GCPN to some boundary of \"druglikeness\" as defined by similarity to ChEMBL antivirals and their ability to target the drug target of interest.\n",
    "\n",
    "CAVEAT: These embeddings were generated using an 80/20 training/test split. We could and possibly should regenerate these embeddings with the entire graph (no 80/20 split)"
   ]
  },
  {
   "cell_type": "markdown",
   "metadata": {},
   "source": [
    "## Loading the KG-COVID-19 knowledge graph\n",
    "We need to load the graphs and redo the training/test split exactly as we did when generating the embeddings in order to retrieve the labels for the embedddings"
   ]
  },
  {
   "cell_type": "markdown",
   "metadata": {},
   "source": [
    "### Define all files and URLs up top here"
   ]
  },
  {
   "cell_type": "code",
   "execution_count": 1,
   "metadata": {},
   "outputs": [],
   "source": [
    "import os\n",
    "\n",
    "base_dl_dir = \"downloaded_data\"\n",
    "graph_data_dir = os.path.join(base_dl_dir, \"kg-covid-19-20201001\")\n",
    "embedding_data_dir = os.path.join(base_dl_dir, \"embeddings-20201001\")\n",
    "\n",
    "# graph stuff\n",
    "graph_out_file = os.path.join(graph_data_dir + \"/kg-covid-19.tar.gz\")\n",
    "nodes_file = os.path.join(graph_data_dir, \"merged-kg_nodes.tsv\")\n",
    "edges_file = os.path.join(graph_data_dir, \"merged-kg_edges.tsv\")\n",
    "sorted_edges_file = os.path.join(graph_data_dir, \"merged-kg_edges_SORTED.tsv\")\n",
    "graph_tar_url = \"https://kg-hub.berkeleybop.io/kg-covid-19/20201001/kg-covid-19.tar.gz\"\n",
    "\n",
    "# embeddings URLs\n",
    "base_kghub_url = \"http://kg-hub.berkeleybop.io/\"\n",
    "embeddings_url = os.path.join(base_kghub_url, \"embeddings/20201001/SkipGram_80_20_kg_covid_19_20201001_training_test_epoch_500_delta_0.0001_embedding.npy\")\n",
    "embedding_file = os.path.join(embedding_data_dir, \"SkipGram_embedding.npy\")\n",
    "\n",
    "# params\n",
    "seed = 42\n",
    "train_percentage = 0.8\n",
    "patience = 5"
   ]
  },
  {
   "cell_type": "code",
   "execution_count": 2,
   "metadata": {},
   "outputs": [],
   "source": [
    "chembl_antiviral_dir = os.path.join(base_dl_dir, \"chembl_antiviral-20201001\")\n",
    "chembl_antiviral_file = os.path.join(chembl_antiviral_dir, \"chembl_nodes.tsv\")\n",
    "chembl_antiviral_url = \"https://kg-hub.berkeleybop.io/kg-covid-19/20201001/transformed/ChEMBL/nodes.tsv\""
   ]
  },
  {
   "cell_type": "code",
   "execution_count": 3,
   "metadata": {},
   "outputs": [],
   "source": [
    "from pkg_resources import get_distribution\n",
    "assert(get_distribution(\"ensmallen-graph\").version == '0.4.3')\n",
    "assert(get_distribution(\"embiggen\").version == '0.6.0')"
   ]
  },
  {
   "cell_type": "code",
   "execution_count": 4,
   "metadata": {},
   "outputs": [],
   "source": [
    "# download the graphs, if necessary\n",
    "\n",
    "import urllib\n",
    "import os\n",
    "os.makedirs(graph_data_dir, exist_ok=True)\n",
    "\n",
    "if not os.path.exists(nodes_file) or not os.path.exists(edges_file):\n",
    "    with urllib.request.urlopen(graph_tar_url) as response, \\\n",
    "        open(graph_out_file, 'wb') as out_file:\n",
    "            data = response.read()  # a `bytes` object\n",
    "            out_file.write(data)\n",
    "    os.system(\"tar -xvzf \" + graph_out_file + \" -C \" + graph_data_dir)"
   ]
  },
  {
   "cell_type": "markdown",
   "metadata": {
    "pycharm": {
     "name": "#%% md\n"
    }
   },
   "source": [
    "## Retrieve the embeddings"
   ]
  },
  {
   "cell_type": "code",
   "execution_count": 5,
   "metadata": {},
   "outputs": [],
   "source": [
    "os.makedirs(embedding_data_dir, exist_ok=True)\n",
    "\n",
    "if not os.path.exists(embedding_file):\n",
    "    with urllib.request.urlopen(embeddings_url) as response, \\\n",
    "        open(embedding_file, 'wb') as out_file:\n",
    "            data = response.read()  # a `bytes` object\n",
    "            out_file.write(data)"
   ]
  },
  {
   "cell_type": "code",
   "execution_count": 6,
   "metadata": {
    "pycharm": {
     "is_executing": true
    }
   },
   "outputs": [
    {
     "name": "stdout",
     "output_type": "stream",
     "text": [
      "CPU times: user 1.43 ms, sys: 1.25 ms, total: 2.69 ms\n",
      "Wall time: 3.43 ms\n"
     ]
    }
   ],
   "source": [
    "%%time\n",
    "from ensmallen_graph import EnsmallenGraph\n",
    "\n",
    "if not os.path.exists(sorted_edges_file):\n",
    "    graph = EnsmallenGraph.from_unsorted_csv(\n",
    "        edge_path = edges_file,\n",
    "        sources_column=\"subject\",\n",
    "        destinations_column=\"object\",\n",
    "        directed=False,\n",
    "        node_path = nodes_file,\n",
    "        nodes_column = 'id',\n",
    "        node_types_column = 'category',\n",
    "        default_node_type = 'biolink:NamedThing'\n",
    "    )\n",
    "\n",
    "    graph.dump_edges(sorted_edges_file,\n",
    "        sources_column=\"subject\",\n",
    "        destinations_column=\"object\")"
   ]
  },
  {
   "cell_type": "code",
   "execution_count": 7,
   "metadata": {},
   "outputs": [
    {
     "data": {
      "text/plain": [
       "{'self_loops_rate': '0.00001554151233261008',\n",
       " 'nodes_number': '377577',\n",
       " 'singletons': '8314',\n",
       " 'directed': 'false',\n",
       " 'unique_edge_types_number': '0',\n",
       " 'self_loops_number': '481',\n",
       " 'degree_mean': '81.96836406878597',\n",
       " 'edges_number': '30949369',\n",
       " 'density': '0.037284237441157525',\n",
       " 'unique_node_types_number': '37'}"
      ]
     },
     "execution_count": 7,
     "metadata": {},
     "output_type": "execute_result"
    }
   ],
   "source": [
    "from ensmallen_graph import EnsmallenGraph\n",
    "\n",
    "graph = EnsmallenGraph.from_sorted_csv(\n",
    "    edge_path = sorted_edges_file,\n",
    "    sources_column=\"subject\",\n",
    "    destinations_column=\"object\",\n",
    "    directed=False,\n",
    "    nodes_number=377577,  # should be = or > than actual number\n",
    "    edges_number=30949369,   # same ^\n",
    "    node_path = nodes_file,\n",
    "    nodes_column = 'id',\n",
    "    node_types_column = 'category',\n",
    "    default_node_type = 'biolink:NamedThing'\n",
    ")\n",
    "\n",
    "graph.report()"
   ]
  },
  {
   "cell_type": "code",
   "execution_count": 8,
   "metadata": {
    "pycharm": {
     "is_executing": true
    }
   },
   "outputs": [
    {
     "name": "stdout",
     "output_type": "stream",
     "text": [
      "CPU times: user 2min 28s, sys: 3.07 s, total: 2min 31s\n",
      "Wall time: 2min 33s\n"
     ]
    }
   ],
   "source": [
    "%%time\n",
    "pos_training, pos_validation = graph.connected_holdout(train_percentage, seed=seed)"
   ]
  },
  {
   "cell_type": "markdown",
   "metadata": {},
   "source": [
    "The followings checks are not strictly necessary, but are offered as sanity checks:"
   ]
  },
  {
   "cell_type": "code",
   "execution_count": 9,
   "metadata": {
    "pycharm": {
     "is_executing": true
    }
   },
   "outputs": [
    {
     "name": "stdout",
     "output_type": "stream",
     "text": [
      "CPU times: user 4 µs, sys: 0 ns, total: 4 µs\n",
      "Wall time: 6.91 µs\n"
     ]
    }
   ],
   "source": [
    "%%time\n",
    "coherence_check=False\n",
    "if coherence_check:\n",
    "    assert graph.contains(pos_training)\n",
    "    assert graph.contains(pos_validation)\n",
    "    assert (pos_training | pos_validation).contains(graph)\n",
    "    assert graph.contains(pos_training | pos_validation)\n",
    "    assert not training.overlaps(pos_validation)\n",
    "    assert not validation.overlaps(pos_training)"
   ]
  },
  {
   "cell_type": "code",
   "execution_count": 10,
   "metadata": {
    "pycharm": {
     "is_executing": true,
     "name": "#%%\n"
    },
    "scrolled": true
   },
   "outputs": [],
   "source": [
    "import numpy as np\n",
    "embeddings = np.load(embedding_file)"
   ]
  },
  {
   "cell_type": "code",
   "execution_count": 11,
   "metadata": {
    "pycharm": {
     "is_executing": true
    }
   },
   "outputs": [],
   "source": [
    "node_names = list(np.array(pos_training.get_nodes_reverse_mapping()))"
   ]
  },
  {
   "cell_type": "code",
   "execution_count": 12,
   "metadata": {
    "pycharm": {
     "is_executing": true
    }
   },
   "outputs": [],
   "source": [
    "assert len(pos_training.get_nodes_reverse_mapping()) == len(embeddings)"
   ]
  },
  {
   "cell_type": "code",
   "execution_count": 13,
   "metadata": {
    "pycharm": {
     "is_executing": true
    }
   },
   "outputs": [],
   "source": [
    "assert len(pos_training.get_node_types()) == len(embeddings)"
   ]
  },
  {
   "cell_type": "markdown",
   "metadata": {
    "pycharm": {
     "name": "#%% md\n"
    }
   },
   "source": [
    "#### here are all the SARS-CoV-2 proteins if we need to add more"
   ]
  },
  {
   "cell_type": "code",
   "execution_count": 15,
   "metadata": {
    "pycharm": {
     "name": "#%%\n"
    },
    "scrolled": true
   },
   "outputs": [
    {
     "name": "stdout",
     "output_type": "stream",
     "text": [
      "Requirement already satisfied: wget in ./venv/lib/python3.8/site-packages (3.2)\n",
      "\u001B[33mWARNING: You are using pip version 20.2.1; however, version 20.2.3 is available.\n",
      "You should consider upgrading via the '/Users/jtr4v/PycharmProjects/justaddcoffee-chembl_antiviral_smile_and_embeddings/venv/bin/python3.8 -m pip install --upgrade pip' command.\u001B[0m\n",
      "NAME\tDB ID\n",
      "pp1a\tUniProtKB:P0DTC1\n",
      "nsp11\tUniProtKB:P0DTC1-PRO_0000449645\n",
      "S protein\tUniProtKB:P0DTC2\n",
      "Spike protein S1\tUniProtKB:P0DTC2-PRO_0000449647\n",
      "Spike protein S2\tUniProtKB:P0DTC2-PRO_0000449648\n",
      "Spike protein S2'\tUniProtKB:P0DTC2-PRO_0000449649\n",
      "ORF3a\tUniProtKB:P0DTC3\n",
      "E protein\tUniProtKB:P0DTC4\n",
      "M protein\tUniProtKB:P0DTC5\n",
      "ORF6\tUniProtKB:P0DTC6\n",
      "ORF7a\tUniProtKB:P0DTC7\n",
      "ORF8\tUniProtKB:P0DTC8\n",
      "N protein\tUniProtKB:P0DTC9\n",
      "pp1ab\tUniProtKB:P0DTD1\n",
      "nsp1\tUniProtKB:P0DTD1-PRO_0000449619\n",
      "nsp2\tUniProtKB:P0DTD1-PRO_0000449620\n",
      "nsp3\tUniProtKB:P0DTD1-PRO_0000449621\n",
      "nsp4\tUniProtKB:P0DTD1-PRO_0000449622\n",
      "nsp5\tUniProtKB:P0DTD1-PRO_0000449623\n",
      "nsp6\tUniProtKB:P0DTD1-PRO_0000449624\n",
      "nsp7\tUniProtKB:P0DTD1-PRO_0000449625\n",
      "nsp8\tUniProtKB:P0DTD1-PRO_0000449626\n",
      "nsp9\tUniProtKB:P0DTD1-PRO_0000449627\n",
      "nsp10\tUniProtKB:P0DTD1-PRO_0000449628\n",
      "nsp12\tUniProtKB:P0DTD1-PRO_0000449629\n",
      "nsp13\tUniProtKB:P0DTD1-PRO_0000449630\n",
      "nsp14\tUniProtKB:P0DTD1-PRO_0000449631\n",
      "nsp15\tUniProtKB:P0DTD1-PRO_0000449632\n",
      "nsp16\tUniProtKB:P0DTD1-PRO_0000449633\n",
      "ORF9b\tUniProtKB:P0DTD2\n",
      "ORF14\tUniProtKB:P0DTD3\n",
      "ORF7b\tUniProtKB:P0DTD8\n"
     ]
    }
   ],
   "source": [
    "import wget\n",
    "\n",
    "if not os.path.exists(\"uniprot_sars-cov-2.gpi\"):\n",
    "    url = \"https://raw.githubusercontent.com/Knowledge-Graph-Hub/kg-covid-19/master/curated/ORFs/uniprot_sars-cov-2.gpi\"\n",
    "    filename = wget.download(url)\n",
    "\n",
    "with open(\"uniprot_sars-cov-2.gpi\", 'r') as gpi:\n",
    "    lines = gpi.readlines()\n",
    "    print(\"NAME\\tDB ID\")\n",
    "    for line in lines:\n",
    "        if line.startswith(\"!\"):\n",
    "            continue\n",
    "        fields = line.split(\"\\t\")\n",
    "        print(\"%s\\t%s\" % (fields[2], \":\".join([fields[0], fields[1]])))"
   ]
  },
  {
   "cell_type": "code",
   "execution_count": null,
   "metadata": {},
   "outputs": [],
   "source": [
    "# get embeddings for Nodes of interest\n",
    "sars_cov_2_name = 'CHEMBL.TARGET:CHEMBL4303835'\n",
    "nsp5_name = 'UniProtKB:P0DTD1-PRO_0000449623' # nsp5 3C-like proteinase"
   ]
  },
  {
   "cell_type": "code",
   "execution_count": 16,
   "metadata": {},
   "outputs": [],
   "source": [
    "sars_cov_2_idx = node_names.index(sars_cov_2_name)\n",
    "sars_cov_2_emb = embeddings[sars_cov_2_idx]"
   ]
  },
  {
   "cell_type": "code",
   "execution_count": 17,
   "metadata": {},
   "outputs": [],
   "source": [
    "# get chembl antiviral nodes file\n",
    "import wget\n",
    "\n",
    "os.makedirs(chembl_antiviral_dir, exist_ok=True)\n",
    "\n",
    "if not os.path.exists(chembl_antiviral_file):\n",
    "    filename = wget.download(chembl_antiviral_url, chembl_antiviral_file)"
   ]
  },
  {
   "cell_type": "code",
   "execution_count": 18,
   "metadata": {},
   "outputs": [],
   "source": [
    "chembl_antiviral_names = []\n",
    "with open(chembl_antiviral_file, 'r') as f:\n",
    "    header = f.readline().split(\"\\t\")\n",
    "    while line := f.readline():\n",
    "        items = line.split(\"\\t\")\n",
    "        chembl_antiviral_names.append(items[header.index(\"id\")])"
   ]
  },
  {
   "cell_type": "code",
   "execution_count": 19,
   "metadata": {},
   "outputs": [],
   "source": [
    "chembl_antiviral_idx = [node_names.index(av) for av in chembl_antiviral_names]"
   ]
  },
  {
   "cell_type": "code",
   "execution_count": 20,
   "metadata": {
    "pycharm": {
     "is_executing": true
    }
   },
   "outputs": [],
   "source": [
    "# import re\n",
    "# chembl_prefix = 'CHEMBL.COMPOUND'\n",
    "# chembl_names = [x for x in node_names if (match := re.compile(chembl_prefix).search(x))]\n",
    "# chembl_idx = [index for index, x in enumerate(node_names) if (match := re.compile(chembl_prefix).search(x))]\n",
    "# len(chembl_names)"
   ]
  },
  {
   "cell_type": "code",
   "execution_count": 21,
   "metadata": {
    "pycharm": {
     "name": "#%%\n"
    }
   },
   "outputs": [
    {
     "name": "stderr",
     "output_type": "stream",
     "text": [
      "100%|██████████| 6956/6956 [00:00<00:00, 14091.69it/s]\n"
     ]
    }
   ],
   "source": [
    "from scipy import spatial\n",
    "from sklearn.metrics.pairwise import cosine_similarity\n",
    "from tqdm import tqdm\n",
    "\n",
    "chembl_antiviral_cosine_sim = []\n",
    "\n",
    "sars_cov_2_emb = embeddings[sars_cov_2_idx]\n",
    "\n",
    "for antiviral_idx in tqdm(chembl_antiviral_idx):\n",
    "    antiviral_emb = embeddings[antiviral_idx]\n",
    "    chembl_antiviral_cosine_sim.append(1 - spatial.distance.cosine(antiviral_emb, sars_cov_2_emb))"
   ]
  }
 ],
 "metadata": {
  "kernelspec": {
   "display_name": "Python 3",
   "language": "python",
   "name": "python3"
  },
  "language_info": {
   "codemirror_mode": {
    "name": "ipython",
    "version": 3
   },
   "file_extension": ".py",
   "mimetype": "text/x-python",
   "name": "python",
   "nbconvert_exporter": "python",
   "pygments_lexer": "ipython3",
   "version": "3.8.6"
  }
 },
 "nbformat": 4,
 "nbformat_minor": 4
}